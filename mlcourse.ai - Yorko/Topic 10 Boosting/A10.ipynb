{
 "cells": [
  {
   "cell_type": "markdown",
   "metadata": {
    "colab_type": "text",
    "id": "0c5rI-nklZtJ"
   },
   "source": [
    "Apply XGBoost on a Kaggle Inclass Competition to predict whether a flight will be delayed for more than 15 minutes.\n"
   ]
  },
  {
   "cell_type": "code",
   "execution_count": 2,
   "metadata": {
    "colab": {
     "base_uri": "https://localhost:8080/",
     "height": 51
    },
    "colab_type": "code",
    "executionInfo": {
     "elapsed": 702,
     "status": "ok",
     "timestamp": 1598842833229,
     "user": {
      "displayName": "Tong Xu",
      "photoUrl": "https://lh3.googleusercontent.com/a-/AOh14Gi5VWiCMn_G--ZiOfHXBu49dlh1xtLX1_4Y5W2U=s64",
      "userId": "13959840056631926472"
     },
     "user_tz": 360
    },
    "id": "7O9dAPMdlxVu",
    "outputId": "61c7847a-4fc6-4ec6-c8fd-980c31d505a3"
   },
   "outputs": [],
   "source": [
    "import pandas as pd\n",
    "import seaborn as sns\n",
    "from sklearn.preprocessing import OneHotEncoder\n",
    "from sklearn.model_selection import train_test_split, GridSearchCV\n",
    "from sklearn.metrics import accuracy_score, roc_auc_score, confusion_matrix\n",
    "from xgboost import XGBClassifier"
   ]
  },
  {
   "cell_type": "code",
   "execution_count": 3,
   "metadata": {
    "colab": {
     "base_uri": "https://localhost:8080/",
     "height": 204
    },
    "colab_type": "code",
    "executionInfo": {
     "elapsed": 1529,
     "status": "ok",
     "timestamp": 1598842834549,
     "user": {
      "displayName": "Tong Xu",
      "photoUrl": "https://lh3.googleusercontent.com/a-/AOh14Gi5VWiCMn_G--ZiOfHXBu49dlh1xtLX1_4Y5W2U=s64",
      "userId": "13959840056631926472"
     },
     "user_tz": 360
    },
    "id": "qWmmBKb0h11B",
    "outputId": "866d9ea3-ab3f-476c-eb0d-741b9207e0e2"
   },
   "outputs": [
    {
     "data": {
      "text/html": [
       "<div>\n",
       "<style scoped>\n",
       "    .dataframe tbody tr th:only-of-type {\n",
       "        vertical-align: middle;\n",
       "    }\n",
       "\n",
       "    .dataframe tbody tr th {\n",
       "        vertical-align: top;\n",
       "    }\n",
       "\n",
       "    .dataframe thead th {\n",
       "        text-align: right;\n",
       "    }\n",
       "</style>\n",
       "<table border=\"1\" class=\"dataframe\">\n",
       "  <thead>\n",
       "    <tr style=\"text-align: right;\">\n",
       "      <th></th>\n",
       "      <th>Month</th>\n",
       "      <th>DayofMonth</th>\n",
       "      <th>DayOfWeek</th>\n",
       "      <th>DepTime</th>\n",
       "      <th>UniqueCarrier</th>\n",
       "      <th>Origin</th>\n",
       "      <th>Dest</th>\n",
       "      <th>Distance</th>\n",
       "      <th>dep_delayed_15min</th>\n",
       "    </tr>\n",
       "  </thead>\n",
       "  <tbody>\n",
       "    <tr>\n",
       "      <th>0</th>\n",
       "      <td>c-8</td>\n",
       "      <td>c-21</td>\n",
       "      <td>c-7</td>\n",
       "      <td>1934</td>\n",
       "      <td>AA</td>\n",
       "      <td>ATL</td>\n",
       "      <td>DFW</td>\n",
       "      <td>732</td>\n",
       "      <td>N</td>\n",
       "    </tr>\n",
       "    <tr>\n",
       "      <th>1</th>\n",
       "      <td>c-4</td>\n",
       "      <td>c-20</td>\n",
       "      <td>c-3</td>\n",
       "      <td>1548</td>\n",
       "      <td>US</td>\n",
       "      <td>PIT</td>\n",
       "      <td>MCO</td>\n",
       "      <td>834</td>\n",
       "      <td>N</td>\n",
       "    </tr>\n",
       "    <tr>\n",
       "      <th>2</th>\n",
       "      <td>c-9</td>\n",
       "      <td>c-2</td>\n",
       "      <td>c-5</td>\n",
       "      <td>1422</td>\n",
       "      <td>XE</td>\n",
       "      <td>RDU</td>\n",
       "      <td>CLE</td>\n",
       "      <td>416</td>\n",
       "      <td>N</td>\n",
       "    </tr>\n",
       "    <tr>\n",
       "      <th>3</th>\n",
       "      <td>c-11</td>\n",
       "      <td>c-25</td>\n",
       "      <td>c-6</td>\n",
       "      <td>1015</td>\n",
       "      <td>OO</td>\n",
       "      <td>DEN</td>\n",
       "      <td>MEM</td>\n",
       "      <td>872</td>\n",
       "      <td>N</td>\n",
       "    </tr>\n",
       "    <tr>\n",
       "      <th>4</th>\n",
       "      <td>c-10</td>\n",
       "      <td>c-7</td>\n",
       "      <td>c-6</td>\n",
       "      <td>1828</td>\n",
       "      <td>WN</td>\n",
       "      <td>MDW</td>\n",
       "      <td>OMA</td>\n",
       "      <td>423</td>\n",
       "      <td>Y</td>\n",
       "    </tr>\n",
       "  </tbody>\n",
       "</table>\n",
       "</div>"
      ],
      "text/plain": [
       "  Month DayofMonth DayOfWeek  DepTime UniqueCarrier Origin Dest  Distance  \\\n",
       "0   c-8       c-21       c-7     1934            AA    ATL  DFW       732   \n",
       "1   c-4       c-20       c-3     1548            US    PIT  MCO       834   \n",
       "2   c-9        c-2       c-5     1422            XE    RDU  CLE       416   \n",
       "3  c-11       c-25       c-6     1015            OO    DEN  MEM       872   \n",
       "4  c-10        c-7       c-6     1828            WN    MDW  OMA       423   \n",
       "\n",
       "  dep_delayed_15min  \n",
       "0                 N  \n",
       "1                 N  \n",
       "2                 N  \n",
       "3                 N  \n",
       "4                 Y  "
      ]
     },
     "execution_count": 3,
     "metadata": {},
     "output_type": "execute_result"
    }
   ],
   "source": [
    "url_train = 'https://raw.githubusercontent.com/Yorko/mlcourse.ai/master/data/flight_delays_train.csv'\n",
    "url_test = 'https://raw.githubusercontent.com/Yorko/mlcourse.ai/master/data/flight_delays_test.csv'\n",
    "\n",
    "train = pd.read_csv(url_train)\n",
    "test = pd.read_csv(url_test)\n",
    "\n",
    "train.head()"
   ]
  },
  {
   "cell_type": "code",
   "execution_count": 3,
   "metadata": {
    "colab": {
     "base_uri": "https://localhost:8080/",
     "height": 204
    },
    "colab_type": "code",
    "executionInfo": {
     "elapsed": 1015,
     "status": "ok",
     "timestamp": 1598804171798,
     "user": {
      "displayName": "Tong Xu",
      "photoUrl": "https://lh3.googleusercontent.com/a-/AOh14Gi5VWiCMn_G--ZiOfHXBu49dlh1xtLX1_4Y5W2U=s64",
      "userId": "13959840056631926472"
     },
     "user_tz": 360
    },
    "id": "PhISBWIfmsQo",
    "outputId": "a284ac7c-f658-4fd9-8bf2-ef79080a06f5"
   },
   "outputs": [
    {
     "data": {
      "text/html": [
       "<div>\n",
       "<style scoped>\n",
       "    .dataframe tbody tr th:only-of-type {\n",
       "        vertical-align: middle;\n",
       "    }\n",
       "\n",
       "    .dataframe tbody tr th {\n",
       "        vertical-align: top;\n",
       "    }\n",
       "\n",
       "    .dataframe thead th {\n",
       "        text-align: right;\n",
       "    }\n",
       "</style>\n",
       "<table border=\"1\" class=\"dataframe\">\n",
       "  <thead>\n",
       "    <tr style=\"text-align: right;\">\n",
       "      <th></th>\n",
       "      <th>Month</th>\n",
       "      <th>DayofMonth</th>\n",
       "      <th>DayOfWeek</th>\n",
       "      <th>DepTime</th>\n",
       "      <th>UniqueCarrier</th>\n",
       "      <th>Origin</th>\n",
       "      <th>Dest</th>\n",
       "      <th>Distance</th>\n",
       "    </tr>\n",
       "  </thead>\n",
       "  <tbody>\n",
       "    <tr>\n",
       "      <th>0</th>\n",
       "      <td>c-7</td>\n",
       "      <td>c-25</td>\n",
       "      <td>c-3</td>\n",
       "      <td>615</td>\n",
       "      <td>YV</td>\n",
       "      <td>MRY</td>\n",
       "      <td>PHX</td>\n",
       "      <td>598</td>\n",
       "    </tr>\n",
       "    <tr>\n",
       "      <th>1</th>\n",
       "      <td>c-4</td>\n",
       "      <td>c-17</td>\n",
       "      <td>c-2</td>\n",
       "      <td>739</td>\n",
       "      <td>WN</td>\n",
       "      <td>LAS</td>\n",
       "      <td>HOU</td>\n",
       "      <td>1235</td>\n",
       "    </tr>\n",
       "    <tr>\n",
       "      <th>2</th>\n",
       "      <td>c-12</td>\n",
       "      <td>c-2</td>\n",
       "      <td>c-7</td>\n",
       "      <td>651</td>\n",
       "      <td>MQ</td>\n",
       "      <td>GSP</td>\n",
       "      <td>ORD</td>\n",
       "      <td>577</td>\n",
       "    </tr>\n",
       "    <tr>\n",
       "      <th>3</th>\n",
       "      <td>c-3</td>\n",
       "      <td>c-25</td>\n",
       "      <td>c-7</td>\n",
       "      <td>1614</td>\n",
       "      <td>WN</td>\n",
       "      <td>BWI</td>\n",
       "      <td>MHT</td>\n",
       "      <td>377</td>\n",
       "    </tr>\n",
       "    <tr>\n",
       "      <th>4</th>\n",
       "      <td>c-6</td>\n",
       "      <td>c-6</td>\n",
       "      <td>c-3</td>\n",
       "      <td>1505</td>\n",
       "      <td>UA</td>\n",
       "      <td>ORD</td>\n",
       "      <td>STL</td>\n",
       "      <td>258</td>\n",
       "    </tr>\n",
       "  </tbody>\n",
       "</table>\n",
       "</div>"
      ],
      "text/plain": [
       "  Month DayofMonth DayOfWeek  DepTime UniqueCarrier Origin Dest  Distance\n",
       "0   c-7       c-25       c-3      615            YV    MRY  PHX       598\n",
       "1   c-4       c-17       c-2      739            WN    LAS  HOU      1235\n",
       "2  c-12        c-2       c-7      651            MQ    GSP  ORD       577\n",
       "3   c-3       c-25       c-7     1614            WN    BWI  MHT       377\n",
       "4   c-6        c-6       c-3     1505            UA    ORD  STL       258"
      ]
     },
     "execution_count": 3,
     "metadata": {
      "tags": []
     },
     "output_type": "execute_result"
    }
   ],
   "source": [
    "test.head()"
   ]
  },
  {
   "cell_type": "code",
   "execution_count": 4,
   "metadata": {
    "colab": {
     "base_uri": "https://localhost:8080/",
     "height": 68
    },
    "colab_type": "code",
    "executionInfo": {
     "elapsed": 411,
     "status": "ok",
     "timestamp": 1598804173261,
     "user": {
      "displayName": "Tong Xu",
      "photoUrl": "https://lh3.googleusercontent.com/a-/AOh14Gi5VWiCMn_G--ZiOfHXBu49dlh1xtLX1_4Y5W2U=s64",
      "userId": "13959840056631926472"
     },
     "user_tz": 360
    },
    "id": "ecMYr9M07L5c",
    "outputId": "d4d79264-1258-4d1a-f4ad-675de8ae82e9"
   },
   "outputs": [
    {
     "data": {
      "text/plain": [
       "N    80956\n",
       "Y    19044\n",
       "Name: dep_delayed_15min, dtype: int64"
      ]
     },
     "execution_count": 4,
     "metadata": {
      "tags": []
     },
     "output_type": "execute_result"
    }
   ],
   "source": [
    "train['dep_delayed_15min'].value_counts()"
   ]
  },
  {
   "cell_type": "markdown",
   "metadata": {
    "colab_type": "text",
    "id": "FL1iOgY27STL"
   },
   "source": [
    "Class is imbalanced. If we assume target to be false for all samples, the accuracy would be 0.80956."
   ]
  },
  {
   "cell_type": "markdown",
   "metadata": {
    "colab_type": "text",
    "id": "PlUAzHW1mu3r"
   },
   "source": [
    "\n",
    "# Base Model\n",
    "Let's train the default XGBoost classifier on the features DepTime and Distance."
   ]
  },
  {
   "cell_type": "code",
   "execution_count": 4,
   "metadata": {
    "colab": {},
    "colab_type": "code",
    "executionInfo": {
     "elapsed": 256,
     "status": "ok",
     "timestamp": 1598842838153,
     "user": {
      "displayName": "Tong Xu",
      "photoUrl": "https://lh3.googleusercontent.com/a-/AOh14Gi5VWiCMn_G--ZiOfHXBu49dlh1xtLX1_4Y5W2U=s64",
      "userId": "13959840056631926472"
     },
     "user_tz": 360
    },
    "id": "N_0AJbHEm56F"
   },
   "outputs": [],
   "source": [
    "X = train[['DepTime', 'Distance']]\n",
    "y = train['dep_delayed_15min'].apply(lambda x : 1 if x == 'Y' else 0)\n",
    "\n",
    "X_train, X_valid, y_train, y_valid = train_test_split(X, y, test_size=0.3, random_state = 17)"
   ]
  },
  {
   "cell_type": "code",
   "execution_count": 6,
   "metadata": {
    "colab": {
     "base_uri": "https://localhost:8080/",
     "height": 136
    },
    "colab_type": "code",
    "executionInfo": {
     "elapsed": 4096,
     "status": "ok",
     "timestamp": 1598765589701,
     "user": {
      "displayName": "Tong Xu",
      "photoUrl": "https://lh3.googleusercontent.com/a-/AOh14Gi5VWiCMn_G--ZiOfHXBu49dlh1xtLX1_4Y5W2U=s64",
      "userId": "13959840056631926472"
     },
     "user_tz": 360
    },
    "id": "4GJEVWPWnrYC",
    "outputId": "d36fb40c-af35-498a-9df0-5134531bd11f"
   },
   "outputs": [
    {
     "data": {
      "text/plain": [
       "array([[0.9599223 , 0.04007771],\n",
       "       [0.95408607, 0.04591396],\n",
       "       [0.77874637, 0.22125362],\n",
       "       ...,\n",
       "       [0.7167816 , 0.2832184 ],\n",
       "       [0.86579937, 0.13420062],\n",
       "       [0.79214346, 0.20785652]], dtype=float32)"
      ]
     },
     "execution_count": 6,
     "metadata": {
      "tags": []
     },
     "output_type": "execute_result"
    }
   ],
   "source": [
    "xgb_model = XGBClassifier()\n",
    "xgb_model.fit(X_train, y_train)\n",
    "\n",
    "prob = xgb_model.predict_proba(X_valid)\n",
    "prob  # pred_prob returns the probability of each data example being in a given class (first column for y=0, second column for y=1)"
   ]
  },
  {
   "cell_type": "code",
   "execution_count": 7,
   "metadata": {
    "colab": {},
    "colab_type": "code",
    "executionInfo": {
     "elapsed": 4088,
     "status": "ok",
     "timestamp": 1598765589703,
     "user": {
      "displayName": "Tong Xu",
      "photoUrl": "https://lh3.googleusercontent.com/a-/AOh14Gi5VWiCMn_G--ZiOfHXBu49dlh1xtLX1_4Y5W2U=s64",
      "userId": "13959840056631926472"
     },
     "user_tz": 360
    },
    "id": "QMbpq6KIJokI"
   },
   "outputs": [],
   "source": [
    "pred = xgb_model.predict(X_valid)"
   ]
  },
  {
   "cell_type": "code",
   "execution_count": 8,
   "metadata": {
    "colab": {
     "base_uri": "https://localhost:8080/",
     "height": 316
    },
    "colab_type": "code",
    "executionInfo": {
     "elapsed": 4482,
     "status": "ok",
     "timestamp": 1598765590106,
     "user": {
      "displayName": "Tong Xu",
      "photoUrl": "https://lh3.googleusercontent.com/a-/AOh14Gi5VWiCMn_G--ZiOfHXBu49dlh1xtLX1_4Y5W2U=s64",
      "userId": "13959840056631926472"
     },
     "user_tz": 360
    },
    "id": "V6lzz5k0vgoJ",
    "outputId": "54f5db3c-d701-4d7a-99d0-8759f427e53e"
   },
   "outputs": [
    {
     "name": "stdout",
     "output_type": "stream",
     "text": [
      "ROC AUC Score: 0.6974\n",
      "Accuracy Score: 0.8145\n"
     ]
    },
    {
     "data": {
      "text/plain": [
       "<matplotlib.axes._subplots.AxesSubplot at 0x7fdaacb8e9e8>"
      ]
     },
     "execution_count": 8,
     "metadata": {
      "tags": []
     },
     "output_type": "execute_result"
    },
    {
     "data": {
      "image/png": "[encoded data removed]",
      "text/plain": [
       "<Figure size 432x288 with 2 Axes>"
      ]
     },
     "metadata": {
      "needs_background": "light",
      "tags": []
     },
     "output_type": "display_data"
    }
   ],
   "source": [
    "print('ROC AUC Score: {:.4f}'.format(roc_auc_score(y_valid, prob[:, 1])))\n",
    "print('Accuracy Score: {:.4f}'.format(accuracy_score(y_valid, pred)))\n",
    "cf_mat = confusion_matrix(y_valid, pred)\n",
    "sns.heatmap(cf_mat, annot=True,fmt='d')"
   ]
  },
  {
   "cell_type": "markdown",
   "metadata": {
    "colab_type": "text",
    "id": "G2wRHdoezNND"
   },
   "source": [
    "# Model Optimization\n",
    "Transform categorical features with One Hot Encoding."
   ]
  },
  {
   "cell_type": "code",
   "execution_count": 6,
   "metadata": {
    "colab": {
     "base_uri": "https://localhost:8080/",
     "height": 221
    },
    "colab_type": "code",
    "executionInfo": {
     "elapsed": 381,
     "status": "ok",
     "timestamp": 1598804181526,
     "user": {
      "displayName": "Tong Xu",
      "photoUrl": "https://lh3.googleusercontent.com/a-/AOh14Gi5VWiCMn_G--ZiOfHXBu49dlh1xtLX1_4Y5W2U=s64",
      "userId": "13959840056631926472"
     },
     "user_tz": 360
    },
    "id": "gx3Fh6eqzXvN",
    "outputId": "3c964d52-b24c-42cb-c42f-305bc10f9100"
   },
   "outputs": [
    {
     "data": {
      "text/plain": [
       "ATL    5834\n",
       "ORD    4870\n",
       "DFW    4270\n",
       "LAX    3259\n",
       "IAH    3048\n",
       "       ... \n",
       "GST       1\n",
       "VIS       1\n",
       "ADK       1\n",
       "ILG       1\n",
       "WYS       1\n",
       "Name: Origin, Length: 289, dtype: int64"
      ]
     },
     "execution_count": 6,
     "metadata": {
      "tags": []
     },
     "output_type": "execute_result"
    }
   ],
   "source": [
    "train.Origin.value_counts()"
   ]
  },
  {
   "cell_type": "code",
   "execution_count": 7,
   "metadata": {
    "colab": {
     "base_uri": "https://localhost:8080/",
     "height": 221
    },
    "colab_type": "code",
    "executionInfo": {
     "elapsed": 391,
     "status": "ok",
     "timestamp": 1598804182526,
     "user": {
      "displayName": "Tong Xu",
      "photoUrl": "https://lh3.googleusercontent.com/a-/AOh14Gi5VWiCMn_G--ZiOfHXBu49dlh1xtLX1_4Y5W2U=s64",
      "userId": "13959840056631926472"
     },
     "user_tz": 360
    },
    "id": "9nP7BxzNFFSY",
    "outputId": "5008a0d5-7df6-48aa-e438-327f9a22ea6c"
   },
   "outputs": [
    {
     "data": {
      "text/plain": [
       "ATL    5795\n",
       "ORD    4933\n",
       "DFW    4337\n",
       "LAX    3205\n",
       "IAH    3056\n",
       "       ... \n",
       "TTN       1\n",
       "TEX       1\n",
       "VCT       1\n",
       "LWB       1\n",
       "ACK       1\n",
       "Name: Dest, Length: 289, dtype: int64"
      ]
     },
     "execution_count": 7,
     "metadata": {
      "tags": []
     },
     "output_type": "execute_result"
    }
   ],
   "source": [
    "train.Dest.value_counts()"
   ]
  },
  {
   "cell_type": "markdown",
   "metadata": {
    "colab_type": "text",
    "id": "WGgsRAOlCHRl"
   },
   "source": [
    "There are 289 unique values for Origin and Dest, to avoid overfitting, only keep the top 50 indices."
   ]
  },
  {
   "cell_type": "code",
   "execution_count": 5,
   "metadata": {
    "colab": {},
    "colab_type": "code",
    "executionInfo": {
     "elapsed": 261,
     "status": "ok",
     "timestamp": 1598842843408,
     "user": {
      "displayName": "Tong Xu",
      "photoUrl": "https://lh3.googleusercontent.com/a-/AOh14Gi5VWiCMn_G--ZiOfHXBu49dlh1xtLX1_4Y5W2U=s64",
      "userId": "13959840056631926472"
     },
     "user_tz": 360
    },
    "id": "1e9zabv9CR4J"
   },
   "outputs": [],
   "source": [
    "origin = train.Origin.value_counts().head(50).index.to_list()\n",
    "train['Origin'] = train.Origin.apply(lambda x: x if x in origin else 'other')"
   ]
  },
  {
   "cell_type": "code",
   "execution_count": 6,
   "metadata": {
    "colab": {},
    "colab_type": "code",
    "executionInfo": {
     "elapsed": 250,
     "status": "ok",
     "timestamp": 1598842844334,
     "user": {
      "displayName": "Tong Xu",
      "photoUrl": "https://lh3.googleusercontent.com/a-/AOh14Gi5VWiCMn_G--ZiOfHXBu49dlh1xtLX1_4Y5W2U=s64",
      "userId": "13959840056631926472"
     },
     "user_tz": 360
    },
    "id": "98xUeZaOFUee"
   },
   "outputs": [],
   "source": [
    "dest = train.Dest.value_counts().head(50).index.to_list()\n",
    "train['Dest'] = train.Dest.apply(lambda x: x if x in dest else 'other')"
   ]
  },
  {
   "cell_type": "code",
   "execution_count": 10,
   "metadata": {
    "colab": {
     "base_uri": "https://localhost:8080/",
     "height": 34
    },
    "colab_type": "code",
    "executionInfo": {
     "elapsed": 341,
     "status": "ok",
     "timestamp": 1598804187729,
     "user": {
      "displayName": "Tong Xu",
      "photoUrl": "https://lh3.googleusercontent.com/a-/AOh14Gi5VWiCMn_G--ZiOfHXBu49dlh1xtLX1_4Y5W2U=s64",
      "userId": "13959840056631926472"
     },
     "user_tz": 360
    },
    "id": "Ng5OnCZ5zmgT",
    "outputId": "fee3ebfe-1858-42d8-d9c3-5f4271cd24ea"
   },
   "outputs": [
    {
     "data": {
      "text/plain": [
       "22"
      ]
     },
     "execution_count": 10,
     "metadata": {
      "tags": []
     },
     "output_type": "execute_result"
    }
   ],
   "source": [
    "len(train.UniqueCarrier.unique())"
   ]
  },
  {
   "cell_type": "code",
   "execution_count": 11,
   "metadata": {
    "colab": {
     "base_uri": "https://localhost:8080/",
     "height": 34
    },
    "colab_type": "code",
    "executionInfo": {
     "elapsed": 349,
     "status": "ok",
     "timestamp": 1598804188852,
     "user": {
      "displayName": "Tong Xu",
      "photoUrl": "https://lh3.googleusercontent.com/a-/AOh14Gi5VWiCMn_G--ZiOfHXBu49dlh1xtLX1_4Y5W2U=s64",
      "userId": "13959840056631926472"
     },
     "user_tz": 360
    },
    "id": "sCFG7ISW0vmj",
    "outputId": "bc9fa2c7-79cb-4dd5-d05c-4637c19443ac"
   },
   "outputs": [
    {
     "data": {
      "text/plain": [
       "20"
      ]
     },
     "execution_count": 11,
     "metadata": {
      "tags": []
     },
     "output_type": "execute_result"
    }
   ],
   "source": [
    "len(test.UniqueCarrier.unique())"
   ]
  },
  {
   "cell_type": "code",
   "execution_count": 12,
   "metadata": {
    "colab": {
     "base_uri": "https://localhost:8080/",
     "height": 408
    },
    "colab_type": "code",
    "executionInfo": {
     "elapsed": 382,
     "status": "ok",
     "timestamp": 1598804190538,
     "user": {
      "displayName": "Tong Xu",
      "photoUrl": "https://lh3.googleusercontent.com/a-/AOh14Gi5VWiCMn_G--ZiOfHXBu49dlh1xtLX1_4Y5W2U=s64",
      "userId": "13959840056631926472"
     },
     "user_tz": 360
    },
    "id": "hygdMnns1DVp",
    "outputId": "7657b0a8-c1f7-4980-a9fd-19bdab4c989e"
   },
   "outputs": [
    {
     "data": {
      "text/plain": [
       "WN    15082\n",
       "AA     9418\n",
       "DL     8128\n",
       "MQ     7443\n",
       "OO     7390\n",
       "UA     6876\n",
       "US     6482\n",
       "NW     6403\n",
       "XE     5901\n",
       "OH     4594\n",
       "CO     4334\n",
       "EV     3930\n",
       "FL     3039\n",
       "AS     2222\n",
       "YV     2128\n",
       "B6     1838\n",
       "HP     1378\n",
       "F9     1006\n",
       "DH      966\n",
       "HA      762\n",
       "TZ      446\n",
       "AQ      234\n",
       "Name: UniqueCarrier, dtype: int64"
      ]
     },
     "execution_count": 12,
     "metadata": {
      "tags": []
     },
     "output_type": "execute_result"
    }
   ],
   "source": [
    "train.UniqueCarrier.value_counts()"
   ]
  },
  {
   "cell_type": "markdown",
   "metadata": {
    "colab_type": "text",
    "id": "PBAcA_Oj1gvf"
   },
   "source": [
    "There are 22 unique values for UniqueCarrier and Dest, keep the top 10 indices."
   ]
  },
  {
   "cell_type": "code",
   "execution_count": 7,
   "metadata": {
    "colab": {},
    "colab_type": "code",
    "executionInfo": {
     "elapsed": 275,
     "status": "ok",
     "timestamp": 1598842850787,
     "user": {
      "displayName": "Tong Xu",
      "photoUrl": "https://lh3.googleusercontent.com/a-/AOh14Gi5VWiCMn_G--ZiOfHXBu49dlh1xtLX1_4Y5W2U=s64",
      "userId": "13959840056631926472"
     },
     "user_tz": 360
    },
    "id": "Ho03JtSW1ZZj"
   },
   "outputs": [],
   "source": [
    "carrier = train.UniqueCarrier.value_counts().head(10).index.to_list()\n",
    "train['UniqueCarrier'] = train.UniqueCarrier.apply(lambda x: x if x in carrier else 'other')"
   ]
  },
  {
   "cell_type": "code",
   "execution_count": 8,
   "metadata": {
    "colab": {
     "base_uri": "https://localhost:8080/",
     "height": 34
    },
    "colab_type": "code",
    "executionInfo": {
     "elapsed": 395,
     "status": "ok",
     "timestamp": 1598842852190,
     "user": {
      "displayName": "Tong Xu",
      "photoUrl": "https://lh3.googleusercontent.com/a-/AOh14Gi5VWiCMn_G--ZiOfHXBu49dlh1xtLX1_4Y5W2U=s64",
      "userId": "13959840056631926472"
     },
     "user_tz": 360
    },
    "id": "kHH_0d6Nw-lB",
    "outputId": "ddf30c6f-e308-4348-d765-abf9f8233115"
   },
   "outputs": [
    {
     "data": {
      "text/plain": [
       "(100000, 163)"
      ]
     },
     "execution_count": 8,
     "metadata": {},
     "output_type": "execute_result"
    }
   ],
   "source": [
    "onehot_encoder = OneHotEncoder(sparse=False)\n",
    "encoded_features = pd.DataFrame(onehot_encoder.fit_transform(train[['Month', 'DayofMonth', 'DayOfWeek', 'UniqueCarrier', 'Origin', 'Dest']]))\n",
    "encoded_features.shape"
   ]
  },
  {
   "cell_type": "code",
   "execution_count": 9,
   "metadata": {
    "colab": {},
    "colab_type": "code",
    "executionInfo": {
     "elapsed": 600,
     "status": "ok",
     "timestamp": 1598842853589,
     "user": {
      "displayName": "Tong Xu",
      "photoUrl": "https://lh3.googleusercontent.com/a-/AOh14Gi5VWiCMn_G--ZiOfHXBu49dlh1xtLX1_4Y5W2U=s64",
      "userId": "13959840056631926472"
     },
     "user_tz": 360
    },
    "id": "DHyI4yQ0yLvD"
   },
   "outputs": [],
   "source": [
    "X = encoded_features.merge(train[['DepTime', 'Distance']], left_index=True, right_index=True)"
   ]
  },
  {
   "cell_type": "code",
   "execution_count": 16,
   "metadata": {
    "colab": {},
    "colab_type": "code",
    "executionInfo": {
     "elapsed": 516,
     "status": "ok",
     "timestamp": 1598804204731,
     "user": {
      "displayName": "Tong Xu",
      "photoUrl": "https://lh3.googleusercontent.com/a-/AOh14Gi5VWiCMn_G--ZiOfHXBu49dlh1xtLX1_4Y5W2U=s64",
      "userId": "13959840056631926472"
     },
     "user_tz": 360
    },
    "id": "yCeT1icu0-S2"
   },
   "outputs": [],
   "source": [
    "X_train, X_valid, y_train, y_valid = train_test_split(X, y, test_size=0.3, random_state = 17)"
   ]
  },
  {
   "cell_type": "code",
   "execution_count": 20,
   "metadata": {
    "colab": {},
    "colab_type": "code",
    "executionInfo": {
     "elapsed": 30164,
     "status": "ok",
     "timestamp": 1598765615912,
     "user": {
      "displayName": "Tong Xu",
      "photoUrl": "https://lh3.googleusercontent.com/a-/AOh14Gi5VWiCMn_G--ZiOfHXBu49dlh1xtLX1_4Y5W2U=s64",
      "userId": "13959840056631926472"
     },
     "user_tz": 360
    },
    "id": "p_n5rRW3ACBe"
   },
   "outputs": [],
   "source": [
    "xgb_model2 = XGBClassifier()\n",
    "xgb_model2.fit(X_train, y_train)\n",
    "\n",
    "prob2 = xgb_model2.predict_proba(X_valid)\n",
    "pred2 = xgb_model2.predict(X_valid)"
   ]
  },
  {
   "cell_type": "code",
   "execution_count": 21,
   "metadata": {
    "colab": {
     "base_uri": "https://localhost:8080/",
     "height": 316
    },
    "colab_type": "code",
    "executionInfo": {
     "elapsed": 30331,
     "status": "ok",
     "timestamp": 1598765616089,
     "user": {
      "displayName": "Tong Xu",
      "photoUrl": "https://lh3.googleusercontent.com/a-/AOh14Gi5VWiCMn_G--ZiOfHXBu49dlh1xtLX1_4Y5W2U=s64",
      "userId": "13959840056631926472"
     },
     "user_tz": 360
    },
    "id": "ipdI5vuSLejm",
    "outputId": "8a4bff00-f5ea-4ae3-f420-a5d84d6e021a"
   },
   "outputs": [
    {
     "name": "stdout",
     "output_type": "stream",
     "text": [
      "ROC AUC Score: 0.7173\n",
      "Accuracy Score: 0.8173\n"
     ]
    },
    {
     "data": {
      "text/plain": [
       "<matplotlib.axes._subplots.AxesSubplot at 0x7fdaad2b8390>"
      ]
     },
     "execution_count": 21,
     "metadata": {
      "tags": []
     },
     "output_type": "execute_result"
    },
    {
     "data": {
      "image/png": "[encoded data removed]",
      "text/plain": [
       "<Figure size 432x288 with 2 Axes>"
      ]
     },
     "metadata": {
      "needs_background": "light",
      "tags": []
     },
     "output_type": "display_data"
    }
   ],
   "source": [
    "print('ROC AUC Score: {:.4f}'.format(roc_auc_score(y_valid, prob2[:, 1])))\n",
    "print('Accuracy Score: {:.4f}'.format(accuracy_score(y_valid, pred2)))\n",
    "cf_mat = confusion_matrix(y_valid, pred2)\n",
    "sns.heatmap(cf_mat, annot=True, fmt='d')"
   ]
  },
  {
   "cell_type": "markdown",
   "metadata": {
    "colab_type": "text",
    "id": "3sf0yR9P35_z"
   },
   "source": [
    "## Parameters Tuning"
   ]
  },
  {
   "cell_type": "code",
   "execution_count": 22,
   "metadata": {
    "colab": {
     "base_uri": "https://localhost:8080/",
     "height": 357
    },
    "colab_type": "code",
    "executionInfo": {
     "elapsed": 2090853,
     "status": "ok",
     "timestamp": 1598767676622,
     "user": {
      "displayName": "Tong Xu",
      "photoUrl": "https://lh3.googleusercontent.com/a-/AOh14Gi5VWiCMn_G--ZiOfHXBu49dlh1xtLX1_4Y5W2U=s64",
      "userId": "13959840056631926472"
     },
     "user_tz": 360
    },
    "id": "5inDJqDg3LU3",
    "outputId": "ec2f1a58-8a4e-44fa-a9f8-0b8edcd3e9fb"
   },
   "outputs": [
    {
     "name": "stdout",
     "output_type": "stream",
     "text": [
      "Fitting 5 folds for each of 15 candidates, totalling 75 fits\n"
     ]
    },
    {
     "name": "stderr",
     "output_type": "stream",
     "text": [
      "[Parallel(n_jobs=-1)]: Using backend LokyBackend with 2 concurrent workers.\n",
      "[Parallel(n_jobs=-1)]: Done  46 tasks      | elapsed: 19.6min\n",
      "[Parallel(n_jobs=-1)]: Done  75 out of  75 | elapsed: 33.2min finished\n"
     ]
    },
    {
     "data": {
      "text/plain": [
       "GridSearchCV(cv=5, error_score=nan,\n",
       "             estimator=XGBClassifier(base_score=0.5, booster='gbtree',\n",
       "                                     colsample_bylevel=1, colsample_bynode=1,\n",
       "                                     colsample_bytree=1, gamma=0,\n",
       "                                     learning_rate=0.1, max_delta_step=0,\n",
       "                                     max_depth=3, min_child_weight=1,\n",
       "                                     missing=None, n_estimators=100, n_jobs=1,\n",
       "                                     nthread=None, objective='binary:logistic',\n",
       "                                     random_state=0, reg_alpha=0, reg_lambda=1,\n",
       "                                     scale_pos_weight=1, seed=None, silent=None,\n",
       "                                     subsample=1, verbosity=1),\n",
       "             iid='deprecated', n_jobs=-1,\n",
       "             param_grid={'learning_rate': [0.05, 0.1, 0.2],\n",
       "                         'n_estimators': range(40, 210, 40)},\n",
       "             pre_dispatch='2*n_jobs', refit=True, return_train_score=False,\n",
       "             scoring='roc_auc', verbose=1)"
      ]
     },
     "execution_count": 22,
     "metadata": {
      "tags": []
     },
     "output_type": "execute_result"
    }
   ],
   "source": [
    "parameters = {'n_estimators': range(40, 210, 40),\n",
    "              'learning_rate': [0.05, 0.1, 0.2]}\n",
    "\n",
    "gridsearch = GridSearchCV(estimator=XGBClassifier(), \n",
    "                          param_grid=parameters,\n",
    "                          scoring='roc_auc',\n",
    "                          cv=5,\n",
    "                          verbose=1,\n",
    "                          n_jobs=-1)\n",
    "\n",
    "gridsearch.fit(X, y)"
   ]
  },
  {
   "cell_type": "code",
   "execution_count": 23,
   "metadata": {
    "colab": {
     "base_uri": "https://localhost:8080/",
     "height": 136
    },
    "colab_type": "code",
    "executionInfo": {
     "elapsed": 2090844,
     "status": "ok",
     "timestamp": 1598767676624,
     "user": {
      "displayName": "Tong Xu",
      "photoUrl": "https://lh3.googleusercontent.com/a-/AOh14Gi5VWiCMn_G--ZiOfHXBu49dlh1xtLX1_4Y5W2U=s64",
      "userId": "13959840056631926472"
     },
     "user_tz": 360
    },
    "id": "BNytEF1d-_G7",
    "outputId": "3aaf8f95-4676-4e22-fc8e-47aff7bd621b"
   },
   "outputs": [
    {
     "data": {
      "text/plain": [
       "(XGBClassifier(base_score=0.5, booster='gbtree', colsample_bylevel=1,\n",
       "               colsample_bynode=1, colsample_bytree=1, gamma=0,\n",
       "               learning_rate=0.2, max_delta_step=0, max_depth=3,\n",
       "               min_child_weight=1, missing=None, n_estimators=200, n_jobs=1,\n",
       "               nthread=None, objective='binary:logistic', random_state=0,\n",
       "               reg_alpha=0, reg_lambda=1, scale_pos_weight=1, seed=None,\n",
       "               silent=None, subsample=1, verbosity=1), 0.7366408386385043)"
      ]
     },
     "execution_count": 23,
     "metadata": {
      "tags": []
     },
     "output_type": "execute_result"
    }
   ],
   "source": [
    "gridsearch.best_estimator_, gridsearch.best_score_"
   ]
  },
  {
   "cell_type": "code",
   "execution_count": 24,
   "metadata": {
    "colab": {
     "base_uri": "https://localhost:8080/",
     "height": 357
    },
    "colab_type": "code",
    "executionInfo": {
     "elapsed": 7064317,
     "status": "ok",
     "timestamp": 1598772650107,
     "user": {
      "displayName": "Tong Xu",
      "photoUrl": "https://lh3.googleusercontent.com/a-/AOh14Gi5VWiCMn_G--ZiOfHXBu49dlh1xtLX1_4Y5W2U=s64",
      "userId": "13959840056631926472"
     },
     "user_tz": 360
    },
    "id": "WNMG5CSI5Vlt",
    "outputId": "c8ba7601-49b8-4324-8520-eafc4b693116"
   },
   "outputs": [
    {
     "name": "stdout",
     "output_type": "stream",
     "text": [
      "Fitting 5 folds for each of 12 candidates, totalling 60 fits\n"
     ]
    },
    {
     "name": "stderr",
     "output_type": "stream",
     "text": [
      "[Parallel(n_jobs=-1)]: Using backend LokyBackend with 2 concurrent workers.\n",
      "[Parallel(n_jobs=-1)]: Done  46 tasks      | elapsed: 52.8min\n",
      "[Parallel(n_jobs=-1)]: Done  60 out of  60 | elapsed: 79.8min finished\n"
     ]
    },
    {
     "data": {
      "text/plain": [
       "GridSearchCV(cv=5, error_score=nan,\n",
       "             estimator=XGBClassifier(base_score=0.5, booster='gbtree',\n",
       "                                     colsample_bylevel=1, colsample_bynode=1,\n",
       "                                     colsample_bytree=1, gamma=0,\n",
       "                                     learning_rate=0.2, max_delta_step=0,\n",
       "                                     max_depth=3, min_child_weight=1,\n",
       "                                     missing=None, n_estimators=200, n_jobs=1,\n",
       "                                     nthread=None, objective='binary:logistic',\n",
       "                                     random_state=0, reg_alpha=0, reg_lambda=1,\n",
       "                                     scale_pos_weight=1, seed=None, silent=None,\n",
       "                                     subsample=1, verbosity=1),\n",
       "             iid='deprecated', n_jobs=-1,\n",
       "             param_grid={'max_depth': range(3, 10, 2),\n",
       "                         'min_child_weight': range(1, 6, 2)},\n",
       "             pre_dispatch='2*n_jobs', refit=True, return_train_score=False,\n",
       "             scoring='roc_auc', verbose=1)"
      ]
     },
     "execution_count": 24,
     "metadata": {
      "tags": []
     },
     "output_type": "execute_result"
    }
   ],
   "source": [
    "xgb_model3 = XGBClassifier(n_estimators=200, learning_rate=0.2)\n",
    "\n",
    "parameters = {'max_depth': range(3, 10, 2),\n",
    "              'min_child_weight': range(1, 6, 2)}    # if there are fewer than min_child_weight samples at that node, the node becomes a leaf and is no longer split\n",
    "\n",
    "gridsearch2 = GridSearchCV(estimator=xgb_model3, \n",
    "                          param_grid=parameters,\n",
    "                          scoring='roc_auc',\n",
    "                          cv=5,\n",
    "                          verbose=1,\n",
    "                          n_jobs=-1)\n",
    "\n",
    "gridsearch2.fit(X, y)"
   ]
  },
  {
   "cell_type": "code",
   "execution_count": 25,
   "metadata": {
    "colab": {
     "base_uri": "https://localhost:8080/",
     "height": 136
    },
    "colab_type": "code",
    "executionInfo": {
     "elapsed": 7064312,
     "status": "ok",
     "timestamp": 1598772650113,
     "user": {
      "displayName": "Tong Xu",
      "photoUrl": "https://lh3.googleusercontent.com/a-/AOh14Gi5VWiCMn_G--ZiOfHXBu49dlh1xtLX1_4Y5W2U=s64",
      "userId": "13959840056631926472"
     },
     "user_tz": 360
    },
    "id": "T8ZD-vW0_ozU",
    "outputId": "8ddc4c5c-734a-4029-fa2a-cd6d4a5e3587"
   },
   "outputs": [
    {
     "data": {
      "text/plain": [
       "(XGBClassifier(base_score=0.5, booster='gbtree', colsample_bylevel=1,\n",
       "               colsample_bynode=1, colsample_bytree=1, gamma=0,\n",
       "               learning_rate=0.2, max_delta_step=0, max_depth=9,\n",
       "               min_child_weight=5, missing=None, n_estimators=200, n_jobs=1,\n",
       "               nthread=None, objective='binary:logistic', random_state=0,\n",
       "               reg_alpha=0, reg_lambda=1, scale_pos_weight=1, seed=None,\n",
       "               silent=None, subsample=1, verbosity=1), 0.7550363122071371)"
      ]
     },
     "execution_count": 25,
     "metadata": {
      "tags": []
     },
     "output_type": "execute_result"
    }
   ],
   "source": [
    "gridsearch2.best_estimator_, gridsearch2.best_score_"
   ]
  },
  {
   "cell_type": "code",
   "execution_count": 17,
   "metadata": {
    "colab": {
     "base_uri": "https://localhost:8080/",
     "height": 323
    },
    "colab_type": "code",
    "executionInfo": {
     "elapsed": 3432708,
     "status": "ok",
     "timestamp": 1598807675149,
     "user": {
      "displayName": "Tong Xu",
      "photoUrl": "https://lh3.googleusercontent.com/a-/AOh14Gi5VWiCMn_G--ZiOfHXBu49dlh1xtLX1_4Y5W2U=s64",
      "userId": "13959840056631926472"
     },
     "user_tz": 360
    },
    "id": "cQuoCOB498kb",
    "outputId": "f3d1fedf-5461-44a2-872f-ee3a97fa53bc"
   },
   "outputs": [
    {
     "name": "stdout",
     "output_type": "stream",
     "text": [
      "Fitting 5 folds for each of 6 candidates, totalling 30 fits\n"
     ]
    },
    {
     "name": "stderr",
     "output_type": "stream",
     "text": [
      "[Parallel(n_jobs=-1)]: Using backend LokyBackend with 2 concurrent workers.\n",
      "[Parallel(n_jobs=-1)]: Done  30 out of  30 | elapsed: 54.4min finished\n"
     ]
    },
    {
     "data": {
      "text/plain": [
       "GridSearchCV(cv=5, error_score=nan,\n",
       "             estimator=XGBClassifier(base_score=0.5, booster='gbtree',\n",
       "                                     colsample_bylevel=1, colsample_bynode=1,\n",
       "                                     colsample_bytree=1, gamma=0,\n",
       "                                     learning_rate=0.2, max_delta_step=0,\n",
       "                                     max_depth=9, min_child_weight=5,\n",
       "                                     missing=None, n_estimators=200, n_jobs=1,\n",
       "                                     nthread=None, objective='binary:logistic',\n",
       "                                     random_state=0, reg_alpha=0, reg_lambda=1,\n",
       "                                     scale_pos_weight=1, seed=None, silent=None,\n",
       "                                     subsample=1, verbosity=1),\n",
       "             iid='deprecated', n_jobs=-1,\n",
       "             param_grid={'gamma': [0.0, 0.1, 0.2, 0.3, 0.4, 0.5]},\n",
       "             pre_dispatch='2*n_jobs', refit=True, return_train_score=False,\n",
       "             scoring='roc_auc', verbose=1)"
      ]
     },
     "execution_count": 17,
     "metadata": {
      "tags": []
     },
     "output_type": "execute_result"
    }
   ],
   "source": [
    "xgb_model3 = XGBClassifier(n_estimators=200, \n",
    "                           learning_rate=0.2, \n",
    "                           max_depth=9,\n",
    "                           min_child_weight=5)\n",
    "\n",
    "parameters = {'gamma': [i/10 for i in range(6)]}\n",
    "\n",
    "gridsearch3 = GridSearchCV(estimator=xgb_model3, \n",
    "                          param_grid=parameters,\n",
    "                          scoring='roc_auc',\n",
    "                          cv=5,\n",
    "                          verbose=1,\n",
    "                          n_jobs=-1)\n",
    "\n",
    "gridsearch3.fit(X, y)"
   ]
  },
  {
   "cell_type": "code",
   "execution_count": 18,
   "metadata": {
    "colab": {
     "base_uri": "https://localhost:8080/",
     "height": 136
    },
    "colab_type": "code",
    "executionInfo": {
     "elapsed": 3311058,
     "status": "ok",
     "timestamp": 1598807675153,
     "user": {
      "displayName": "Tong Xu",
      "photoUrl": "https://lh3.googleusercontent.com/a-/AOh14Gi5VWiCMn_G--ZiOfHXBu49dlh1xtLX1_4Y5W2U=s64",
      "userId": "13959840056631926472"
     },
     "user_tz": 360
    },
    "id": "Glgr7fvzC7wN",
    "outputId": "a200fe6e-77e5-4128-c0c9-c891a50f824d"
   },
   "outputs": [
    {
     "data": {
      "text/plain": [
       "(XGBClassifier(base_score=0.5, booster='gbtree', colsample_bylevel=1,\n",
       "               colsample_bynode=1, colsample_bytree=1, gamma=0.3,\n",
       "               learning_rate=0.2, max_delta_step=0, max_depth=9,\n",
       "               min_child_weight=5, missing=None, n_estimators=200, n_jobs=1,\n",
       "               nthread=None, objective='binary:logistic', random_state=0,\n",
       "               reg_alpha=0, reg_lambda=1, scale_pos_weight=1, seed=None,\n",
       "               silent=None, subsample=1, verbosity=1), 0.7550446006159495)"
      ]
     },
     "execution_count": 18,
     "metadata": {
      "tags": []
     },
     "output_type": "execute_result"
    }
   ],
   "source": [
    "gridsearch3.best_estimator_, gridsearch3.best_score_"
   ]
  },
  {
   "cell_type": "code",
   "execution_count": 19,
   "metadata": {
    "colab": {
     "base_uri": "https://localhost:8080/",
     "height": 357
    },
    "colab_type": "code",
    "executionInfo": {
     "elapsed": 19045268,
     "status": "ok",
     "timestamp": 1598826754317,
     "user": {
      "displayName": "Tong Xu",
      "photoUrl": "https://lh3.googleusercontent.com/a-/AOh14Gi5VWiCMn_G--ZiOfHXBu49dlh1xtLX1_4Y5W2U=s64",
      "userId": "13959840056631926472"
     },
     "user_tz": 360
    },
    "id": "pF-rhI42FOzg",
    "outputId": "c5fdaa9f-7598-41c4-ecb9-4c3ad0c861f0"
   },
   "outputs": [
    {
     "name": "stdout",
     "output_type": "stream",
     "text": [
      "Fitting 5 folds for each of 36 candidates, totalling 180 fits\n"
     ]
    },
    {
     "name": "stderr",
     "output_type": "stream",
     "text": [
      "[Parallel(n_jobs=-1)]: Using backend LokyBackend with 2 concurrent workers.\n",
      "[Parallel(n_jobs=-1)]: Done  46 tasks      | elapsed: 62.6min\n",
      "[Parallel(n_jobs=-1)]: Done 180 out of 180 | elapsed: 314.6min finished\n"
     ]
    },
    {
     "data": {
      "text/plain": [
       "GridSearchCV(cv=5, error_score=nan,\n",
       "             estimator=XGBClassifier(base_score=0.5, booster='gbtree',\n",
       "                                     colsample_bylevel=1, colsample_bynode=1,\n",
       "                                     colsample_bytree=1, gamma=0.3,\n",
       "                                     learning_rate=0.2, max_delta_step=0,\n",
       "                                     max_depth=9, min_child_weight=5,\n",
       "                                     missing=None, n_estimators=200, n_jobs=1,\n",
       "                                     nthread=None, objective='binary:logistic',\n",
       "                                     random_state=0, reg_alpha=0, reg_lambda=1,\n",
       "                                     scale_pos_weight=1, seed=None, silent=None,\n",
       "                                     subsample=1, verbosity=1),\n",
       "             iid='deprecated', n_jobs=-1,\n",
       "             param_grid={'colsample_bytree': [0.5, 0.6, 0.7, 0.8, 0.9, 1.0],\n",
       "                         'subsample': [0.5, 0.6, 0.7, 0.8, 0.9, 1.0]},\n",
       "             pre_dispatch='2*n_jobs', refit=True, return_train_score=False,\n",
       "             scoring='roc_auc', verbose=1)"
      ]
     },
     "execution_count": 19,
     "metadata": {
      "tags": []
     },
     "output_type": "execute_result"
    }
   ],
   "source": [
    "xgb_model3 = XGBClassifier(n_estimators=200, \n",
    "                           learning_rate=0.2, \n",
    "                           max_depth=9,\n",
    "                           min_child_weight=5,\n",
    "                           gamma=0.3)\n",
    "\n",
    "parameters = {'subsample': [i/10 for i in range(5,11)],            # fraction of observations to be randomly sampled for each tree\n",
    "              'colsample_bytree': [i/10 for i in range(5,11)]}     # fraction of columns (features) to be randomly sampled for each tree\n",
    "\n",
    "gridsearch4 = GridSearchCV(estimator=xgb_model3, \n",
    "                          param_grid=parameters,\n",
    "                          scoring='roc_auc',\n",
    "                          cv=5,\n",
    "                          verbose=1,\n",
    "                          n_jobs=-1)\n",
    "\n",
    "gridsearch4.fit(X, y)"
   ]
  },
  {
   "cell_type": "code",
   "execution_count": 20,
   "metadata": {
    "colab": {
     "base_uri": "https://localhost:8080/",
     "height": 136
    },
    "colab_type": "code",
    "executionInfo": {
     "elapsed": 19042944,
     "status": "ok",
     "timestamp": 1598826754322,
     "user": {
      "displayName": "Tong Xu",
      "photoUrl": "https://lh3.googleusercontent.com/a-/AOh14Gi5VWiCMn_G--ZiOfHXBu49dlh1xtLX1_4Y5W2U=s64",
      "userId": "13959840056631926472"
     },
     "user_tz": 360
    },
    "id": "6QJ06O33F0lT",
    "outputId": "7ecc11d4-a0c9-4cb9-a745-2e5c4b89ce45"
   },
   "outputs": [
    {
     "data": {
      "text/plain": [
       "(XGBClassifier(base_score=0.5, booster='gbtree', colsample_bylevel=1,\n",
       "               colsample_bynode=1, colsample_bytree=1.0, gamma=0.3,\n",
       "               learning_rate=0.2, max_delta_step=0, max_depth=9,\n",
       "               min_child_weight=5, missing=None, n_estimators=200, n_jobs=1,\n",
       "               nthread=None, objective='binary:logistic', random_state=0,\n",
       "               reg_alpha=0, reg_lambda=1, scale_pos_weight=1, seed=None,\n",
       "               silent=None, subsample=1.0, verbosity=1), 0.7550446006159495)"
      ]
     },
     "execution_count": 20,
     "metadata": {
      "tags": []
     },
     "output_type": "execute_result"
    }
   ],
   "source": [
    "gridsearch4.best_estimator_, gridsearch4.best_score_"
   ]
  },
  {
   "cell_type": "code",
   "execution_count": 10,
   "metadata": {
    "colab": {
     "base_uri": "https://localhost:8080/",
     "height": 136
    },
    "colab_type": "code",
    "executionInfo": {
     "elapsed": 171370,
     "status": "ok",
     "timestamp": 1598843029954,
     "user": {
      "displayName": "Tong Xu",
      "photoUrl": "https://lh3.googleusercontent.com/a-/AOh14Gi5VWiCMn_G--ZiOfHXBu49dlh1xtLX1_4Y5W2U=s64",
      "userId": "13959840056631926472"
     },
     "user_tz": 360
    },
    "id": "QFhFlCsgyi0k",
    "outputId": "fa5fe25c-e991-41db-8d5a-c9df85c0ef8f"
   },
   "outputs": [
    {
     "data": {
      "text/plain": [
       "XGBClassifier(base_score=0.5, booster='gbtree', colsample_bylevel=1,\n",
       "              colsample_bynode=1, colsample_bytree=1, gamma=0.3, gpu_id=-1,\n",
       "              importance_type='gain', interaction_constraints='',\n",
       "              learning_rate=0.2, max_delta_step=0, max_depth=9,\n",
       "              min_child_weight=5, missing=nan, monotone_constraints='()',\n",
       "              n_estimators=200, n_jobs=0, num_parallel_tree=1, random_state=0,\n",
       "              reg_alpha=0, reg_lambda=1, scale_pos_weight=1, subsample=1,\n",
       "              tree_method='exact', validate_parameters=1, verbosity=None)"
      ]
     },
     "execution_count": 10,
     "metadata": {},
     "output_type": "execute_result"
    }
   ],
   "source": [
    "best_model = XGBClassifier(n_estimators=200, \n",
    "                           learning_rate=0.2, \n",
    "                           max_depth=9,\n",
    "                           min_child_weight=5,\n",
    "                           gamma=0.3)\n",
    "\n",
    "best_model.fit(X, y)"
   ]
  },
  {
   "cell_type": "code",
   "execution_count": 11,
   "metadata": {
    "colab": {},
    "colab_type": "code",
    "executionInfo": {
     "elapsed": 2296,
     "status": "ok",
     "timestamp": 1598843134363,
     "user": {
      "displayName": "Tong Xu",
      "photoUrl": "https://lh3.googleusercontent.com/a-/AOh14Gi5VWiCMn_G--ZiOfHXBu49dlh1xtLX1_4Y5W2U=s64",
      "userId": "13959840056631926472"
     },
     "user_tz": 360
    },
    "id": "PnI4X2SR2A9H"
   },
   "outputs": [],
   "source": [
    "test['Origin'] = test.Origin.apply(lambda x: x if x in origin else 'other')\n",
    "test['Dest'] = test.Dest.apply(lambda x: x if x in dest else 'other')\n",
    "test['UniqueCarrier'] = test.UniqueCarrier.apply(lambda x: x if x in carrier else 'other')\n",
    "test_encoded_features = pd.DataFrame(onehot_encoder.fit_transform(test[['Month', 'DayofMonth', 'DayOfWeek', 'UniqueCarrier', 'Origin', 'Dest']]))\n",
    "test_encoded_features.shape\n",
    "\n",
    "X_test = test_encoded_features.merge(test[['DepTime', 'Distance']], left_index=True, right_index=True)"
   ]
  },
  {
   "cell_type": "code",
   "execution_count": 12,
   "metadata": {},
   "outputs": [],
   "source": [
    "xgb_test_pred = best_model.predict_proba(X_test)[:, 1]\n",
    "pd.Series(xgb_test_pred, \n",
    "          name='dep_delayed_15min').to_csv('xgb_2feat.csv', \n",
    "                                           index_label='id', header=True)"
   ]
  },
  {
   "cell_type": "code",
   "execution_count": null,
   "metadata": {},
   "outputs": [],
   "source": []
  }
 ],
 "metadata": {
  "accelerator": "TPU",
  "colab": {
   "authorship_tag": "ABX9TyMfIQFY8xXpGEMEBmGvQ+YZ",
   "collapsed_sections": [],
   "name": "A10.ipynb",
   "provenance": []
  },
  "kernelspec": {
   "display_name": "Python 3",
   "language": "python",
   "name": "python3"
  },
  "language_info": {
   "codemirror_mode": {
    "name": "ipython",
    "version": 3
   },
   "file_extension": ".py",
   "mimetype": "text/x-python",
   "name": "python",
   "nbconvert_exporter": "python",
   "pygments_lexer": "ipython3",
   "version": "3.8.3"
  }
 },
 "nbformat": 4,
 "nbformat_minor": 1
}
